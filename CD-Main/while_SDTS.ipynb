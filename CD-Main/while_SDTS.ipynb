{
  "nbformat": 4,
  "nbformat_minor": 0,
  "metadata": {
    "colab": {
      "provenance": []
    },
    "kernelspec": {
      "name": "python3",
      "display_name": "Python 3"
    },
    "language_info": {
      "name": "python"
    }
  },
  "cells": [
    {
      "cell_type": "code",
      "execution_count": 2,
      "metadata": {
        "colab": {
          "base_uri": "https://localhost:8080/"
        },
        "id": "Je6OKYo-VBlB",
        "outputId": "52d5b932-426c-45da-d466-c33aa426ae9c"
      },
      "outputs": [
        {
          "output_type": "stream",
          "name": "stdout",
          "text": [
            "The Statement is:\n",
            " c =0\n",
            " a =1\n",
            " b =2\n",
            " while(a < b){\n",
            " c =c+1\n",
            " a =a+1\n",
            " }\n",
            " c =0\n",
            "\n",
            "The Three Code Generated is:\n",
            "+-------+---------------------+\n",
            "| Index |         Code        |\n",
            "+-------+---------------------+\n",
            "|   1   |         c =0        |\n",
            "|   2   |         a =1        |\n",
            "|   3   |         b =2        |\n",
            "|   4   | if !(a < b) goto(8) |\n",
            "|   5   |        c =c+1       |\n",
            "|   6   |        a =a+1       |\n",
            "|   7   |       goto(4)       |\n",
            "|   8   |         c =0        |\n",
            "|   9   |         END         |\n",
            "+-------+---------------------+\n"
          ]
        }
      ],
      "source": [
        "from prettytable import PrettyTable\n",
        "\n",
        "def while_loop(cleaned_code):\n",
        "    final_code = []\n",
        "    while_idx = None\n",
        "    for i in range(len(cleaned_code)):\n",
        "        codeline = cleaned_code[i]\n",
        "        if 'while' in codeline:\n",
        "            while_idx = i\n",
        "            start_idx = codeline.index('(')\n",
        "            end_idx = codeline.index(')')\n",
        "            bool_condn = ''.join(codeline[start_idx:end_idx + 1])\n",
        "            final_code.append('if !{} goto({})'.format(bool_condn, None))\n",
        "            while_idx = i\n",
        "        elif '}' in codeline:\n",
        "            final_code.append('goto({})'.format(while_idx + 1))\n",
        "            final_code[while_idx] = final_code[while_idx].replace('None', str(i + 2))\n",
        "            while_idx = None\n",
        "        else:\n",
        "            final_code.append(codeline)\n",
        "    return final_code\n",
        "\n",
        "with open('code1.txt') as f:\n",
        "    code = f.readlines()\n",
        "\n",
        "print('The Statement is:')\n",
        "print(''.join(code))\n",
        "\n",
        "cleaned_code = []\n",
        "for i in range(len(code)):\n",
        "    if code[i] != '\\n':\n",
        "        if code[i][-1] == '\\n':\n",
        "            cleaned_code.append(code[i][:-1].strip())\n",
        "        else:\n",
        "            cleaned_code.append(code[i].strip())\n",
        "\n",
        "final_code = while_loop(cleaned_code)\n",
        "final_code.append('END')\n",
        "\n",
        "print('\\nThe Three Code Generated is:')\n",
        "x1 = PrettyTable()\n",
        "x1.field_names = ['Index', 'Code']\n",
        "for i in range(len(final_code)):\n",
        "    x1.add_row([i + 1, final_code[i]])\n",
        "\n",
        "print(x1)\n"
      ]
    }
  ]
}
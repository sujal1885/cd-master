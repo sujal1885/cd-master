{
  "nbformat": 4,
  "nbformat_minor": 0,
  "metadata": {
    "colab": {
      "provenance": []
    },
    "kernelspec": {
      "name": "python3",
      "display_name": "Python 3"
    },
    "language_info": {
      "name": "python"
    }
  },
  "cells": [
    {
      "cell_type": "code",
      "execution_count": 2,
      "metadata": {
        "colab": {
          "base_uri": "https://localhost:8080/"
        },
        "id": "Je6OKYo-VBlB",
        "outputId": "52d5b932-426c-45da-d466-c33aa426ae9c"
      },
      "outputs": [
        {
          "output_type": "stream",
          "name": "stdout",
          "text": [
            "The Statement is:\n",
            " c =0\n",
            " a =1\n",
            " b =2\n",
            " while(a < b){\n",
            " c =c+1\n",
            " a =a+1\n",
            " }\n",
            " c =0\n",
            "\n",
            "The Three Code Generated is:\n",
            "+-------+---------------------+\n",
            "| Index |         Code        |\n",
            "+-------+---------------------+\n",
            "|   1   |         c =0        |\n",
            "|   2   |         a =1        |\n",
            "|   3   |         b =2        |\n",
            "|   4   | if !(a < b) goto(8) |\n",
            "|   5   |        c =c+1       |\n",
            "|   6   |        a =a+1       |\n",
            "|   7   |       goto(4)       |\n",
            "|   8   |         c =0        |\n",
            "|   9   |         END         |\n",
            "+-------+---------------------+\n"
          ]
        }
      ],
      "source": [
        "from prettytable import PrettyTable\n",
        "\n",
        "def while_loop(cleaned_code):\n",
        "    final_code = []\n",
        "    while_idx = None\n",
        "    for i in range(len(cleaned_code)):\n",
        "        codeline = cleaned_code[i]\n",
        "        if 'while' in codeline:\n",
        "            while_idx = i\n",
        "            start_idx = codeline.index('(')\n",
        "            end_idx = codeline.index(')')\n",
        "            bool_condn = ''.join(codeline[start_idx:end_idx + 1])\n",
        "            final_code.append('if !{} goto({})'.format(bool_condn, None))\n",
        "            while_idx = i\n",
        "        elif '}' in codeline:\n",
        "            final_code.append('goto({})'.format(while_idx + 1))\n",
        "            final_code[while_idx] = final_code[while_idx].replace('None', str(i + 2))\n",
        "            while_idx = None\n",
        "        else:\n",
        "            final_code.append(codeline)\n",
        "    return final_code\n",
        "\n",
        "with open('code1.txt') as f:\n",
        "    code = f.readlines()\n",
        "\n",
        "print('The Statement is:')\n",
        "print(''.join(code))\n",
        "\n",
        "cleaned_code = []\n",
        "for i in range(len(code)):\n",
        "    if code[i] != '\\n':\n",
        "        if code[i][-1] == '\\n':\n",
        "            cleaned_code.append(code[i][:-1].strip())\n",
        "        else:\n",
        "            cleaned_code.append(code[i].strip())\n",
        "\n",
        "final_code = while_loop(cleaned_code)\n",
        "final_code.append('END')\n",
        "\n",
        "print('\\nThe Three Code Generated is:')\n",
        "x1 = PrettyTable()\n",
        "x1.field_names = ['Index', 'Code']\n",
        "for i in range(len(final_code)):\n",
        "    x1.add_row([i + 1, final_code[i]])\n",
        "\n",
        "print(x1)\n"
      ]
    },
    {
      "cell_type": "code",
      "source": [
        "print(\"SDTS for Do-While Loop\")\n",
        "loop_condition = input(\"Enter loop condition: \")\n",
        "num_statements = int(input(\"Enter number of statements inside the loop: \"))\n",
        "arr = []\n",
        "s = 0\n",
        "start = 100\n",
        "\n",
        "while s < 20:\n",
        "    print(\"Enter statements of the loop:\")\n",
        "    for i in range(num_statements):\n",
        "        statement = input()\n",
        "        t = statement.split(\"=\")\n",
        "        arr.append(f\"{start} t{i} = {t[1]}\")\n",
        "        s += 1\n",
        "        arr.append(f\"{start + 1} : {t[0]} = t{i}\")\n",
        "        s += 1\n",
        "        start += 2\n",
        "    arr.append(f\"{start} : if ({loop_condition}) goto {start - 4}\")\n",
        "    s += 1\n",
        "    arr.append(f\"{start + 1} goto {start + 2}\")\n",
        "    s += 1\n",
        "    arr.append(f\"{start + 2} exit\")\n",
        "    break\n",
        "\n",
        "print(\"Three Address Code:\")\n",
        "for i in range(s + 1):\n",
        "    print(arr[i])\n"
      ],
      "metadata": {
        "colab": {
          "base_uri": "https://localhost:8080/"
        },
        "id": "wwha146cYaqw",
        "outputId": "467949f6-fe5d-4d24-8c87-3e6bc58dcd6c"
      },
      "execution_count": 3,
      "outputs": [
        {
          "output_type": "stream",
          "name": "stdout",
          "text": [
            "SDTS for Do-While Loop\n",
            "Enter loop condition: x>0\n",
            "Enter number of statements inside the loop: 2\n",
            "Enter statements of the loop:\n",
            "x=x-1\n",
            "y=y-1\\\n",
            "Three Address Code:\n",
            "100 t0 = x-1\n",
            "101 : x = t0\n",
            "102 t1 = y-1\\\n",
            "103 : y = t1\n",
            "104 : if (x>0) goto 100\n",
            "105 goto 106\n",
            "106 exit\n"
          ]
        }
      ]
    }
  ]
}
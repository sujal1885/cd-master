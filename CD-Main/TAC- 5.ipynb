{
  "nbformat": 4,
  "nbformat_minor": 0,
  "metadata": {
    "colab": {
      "provenance": []
    },
    "kernelspec": {
      "name": "python3",
      "display_name": "Python 3"
    },
    "language_info": {
      "name": "python"
    }
  },
  "cells": [
    {
      "cell_type": "code",
      "execution_count": 2,
      "metadata": {
        "colab": {
          "base_uri": "https://localhost:8080/"
        },
        "id": "ZckBlzg1djV7",
        "outputId": "ad7d8428-a162-4481-9b21-fb61d086992f"
      },
      "outputs": [
        {
          "output_type": "stream",
          "name": "stdout",
          "text": [
            "1) i=0\n",
            "2) if i<10 goto 4\n",
            "3) goto 7\n",
            "4) t1 = a*2\n",
            "5) a = t1\n",
            "6) t2 = i++ + 1\n",
            "7) i++ = t2\n",
            "8) goto 2\n",
            "9) END\n"
          ]
        }
      ],
      "source": [
        "def generate_3ac(input_code):\n",
        "    # List that stores 3AC\n",
        "    code = []\n",
        "    # Line numbers for 3AC\n",
        "    block_counter = 1\n",
        "    # Used to generate temporary variables\n",
        "    temp_counter = 1\n",
        "    # Initial assignment\n",
        "    init_assign = input_code.split(\"(\")[1].split(\";\")[0].strip()\n",
        "    code.append(f\"{block_counter}) {init_assign}\")\n",
        "    block_counter += 1\n",
        "    # Conditional check\n",
        "    cond_check = input_code.split(\";\")[1].strip()\n",
        "    code.append(f\"{block_counter}) if {cond_check} goto {block_counter+2}\")\n",
        "    block_counter += 1\n",
        "    code.append(f\"{block_counter}) goto {block_counter+4}\")\n",
        "    block_counter += 1\n",
        "    # Loop body\n",
        "    loop_body = input_code.split(\"{\")[1].split(\"}\")[0].strip().split(\";\")\n",
        "    for statement in loop_body:\n",
        "        if statement.strip():\n",
        "            left, right = statement.strip().split(\"=\")\n",
        "            temp_var = f\"t{temp_counter}\"\n",
        "            temp_counter += 1\n",
        "            code.append(f\"{block_counter}) {temp_var} = {right.strip()}\")\n",
        "            block_counter += 1\n",
        "            code.append(f\"{block_counter}) {left.strip()} = {temp_var}\")\n",
        "            block_counter += 1\n",
        "    # Update iterator\n",
        "    iterator_update = input_code.split(\";\")[2].split(\")\")[0].strip()\n",
        "    iterator = iterator_update.split(\"=\")[0].strip()\n",
        "    temp_var = f\"t{temp_counter}\"\n",
        "    code.append(f\"{block_counter}) {temp_var} = {iterator} + 1\")\n",
        "    block_counter += 1\n",
        "    code.append(f\"{block_counter}) {iterator} = {temp_var}\")\n",
        "    block_counter += 1\n",
        "    # Jump back to conditional check\n",
        "    code.append(f\"{block_counter}) goto {block_counter-6}\")\n",
        "    # End\n",
        "    code.append(f\"{block_counter+1}) END\")\n",
        "    return code\n",
        "\n",
        "input_code = \"for (i=0; i<10; i++) { a = a*2; }\"\n",
        "three_address_code = generate_3ac(input_code)\n",
        "for line in three_address_code:\n",
        "    print(line)"
      ]
    }
  ]
}
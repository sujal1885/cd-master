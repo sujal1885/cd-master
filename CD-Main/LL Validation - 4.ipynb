{
  "nbformat": 4,
  "nbformat_minor": 0,
  "metadata": {
    "colab": {
      "provenance": []
    },
    "kernelspec": {
      "name": "python3",
      "display_name": "Python 3"
    },
    "language_info": {
      "name": "python"
    }
  },
  "cells": [
    {
      "cell_type": "code",
      "execution_count": null,
      "metadata": {
        "id": "ro6vUS4lkfPZ",
        "colab": {
          "base_uri": "https://localhost:8080/"
        },
        "outputId": "96240f61-cfb0-4383-9b27-9f67242a2288"
      },
      "outputs": [
        {
          "output_type": "stream",
          "name": "stdout",
          "text": [
            "Stack: ['$', 'S'] buffer: ['$', 'c', 'p']\n",
            "Stack: ['$', 'C', 'B'] buffer: ['$', 'c', 'p']\n",
            "Stack: ['$', 'C', 'p'] buffer: ['$', 'c', 'p']\n",
            "Stack: ['$', 'C'] buffer: ['$', 'c']\n",
            "Stack: ['$', 'c'] buffer: ['$', 'c']\n",
            "Stack: ['$'] buffer: ['$']\n",
            "valid string\n",
            "\n",
            "\n",
            "Stack: ['$', 'S'] buffer: ['$', 'p']\n",
            "Stack: ['$', 'C', 'B'] buffer: ['$', 'p']\n",
            "Stack: ['$', 'C', 'p'] buffer: ['$', 'p']\n",
            "Stack: ['$', 'C'] buffer: ['$']\n",
            "Invalid String\n"
          ]
        }
      ],
      "source": [
        "def StrVal(table,input):\n",
        "  stack = ['$','S']\n",
        "  buffer = ['$']\n",
        "\n",
        "  input = list(input.split(\" \"))\n",
        "  input = input[::-1]\n",
        "\n",
        "  buffer = buffer + input\n",
        "\n",
        "  while len(buffer)!=0 :\n",
        "    print(f\"Stack: {stack} buffer: {buffer}\")\n",
        "    x = stack[len(stack)-1]\n",
        "    y = buffer[len(buffer)-1]\n",
        "\n",
        "    if(x==y=='$'):\n",
        "      print(\"valid string\")\n",
        "      break\n",
        "\n",
        "    if(x==y):\n",
        "      stack.pop()\n",
        "      buffer.pop()\n",
        "\n",
        "    elif(x=='epsilon'):\n",
        "      stack.pop()\n",
        "\n",
        "    else:\n",
        "      try:\n",
        "        a = table[x][y]\n",
        "        a = list(a.split(\" \"))\n",
        "        stack.pop()\n",
        "        a = a[::-1]\n",
        "        stack = stack + a\n",
        "\n",
        "      except KeyError:\n",
        "        print(\"Invalid String\")\n",
        "        break\n",
        "\n",
        "\n",
        "t = {\n",
        " 'S': {'a': 'A', 'b': 'A', 'p': 'B C', 'c': 'B C'},\n",
        " 'A': {'a': 'a', 'b': 'b'},\n",
        " 'B': {'p': 'p', 'c': 'epsilon'},\n",
        " 'C': {'c': 'c'}\n",
        "}\n",
        "x = 'p c'\n",
        "StrVal(t,x)\n",
        "\n",
        "print(\"\\n\")\n",
        "\n",
        "s = 'p'\n",
        "StrVal(t,s)"
      ]
    },
    {
      "cell_type": "code",
      "source": [],
      "metadata": {
        "id": "xoT6YefvhRzn"
      },
      "execution_count": null,
      "outputs": []
    }
  ]
}